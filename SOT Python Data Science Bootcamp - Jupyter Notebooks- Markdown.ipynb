{
 "cells": [
  {
   "cell_type": "markdown",
   "metadata": {
    "collapsed": true
   },
   "source": [
    "# Introduction to Jupyter Notebooks and Markdown"
   ]
  },
  {
   "cell_type": "markdown",
   "metadata": {},
   "source": [
    "Jupyter Notebooks are documents that can contain both code and rich text elements, such as figures, links, equations.  \n",
    "Because of the mix of code and text elements, these documents are the ideal place to bring together an analysis description, and its results, as well as, they can be executed perform the data analysis in real time.  \n",
    "Jupyter Notebook is made up of cells that could be either code or markdown.\n",
    "For more information visit [https://jupyter.org/](https://jupyter.org/)"
   ]
  },
  {
   "cell_type": "markdown",
   "metadata": {},
   "source": [
    "**This is a Markdown Cell**"
   ]
  },
  {
   "cell_type": "code",
   "execution_count": 4,
   "metadata": {},
   "outputs": [
    {
     "data": {
      "text/plain": [
       "5"
      ]
     },
     "execution_count": 4,
     "metadata": {},
     "output_type": "execute_result"
    }
   ],
   "source": [
    "# This is a code cell\n",
    "2 + 3"
   ]
  },
  {
   "cell_type": "markdown",
   "metadata": {},
   "source": [
    "## Markdown\n",
    "Markdown is a lightweight markup language with plain text formatting syntax.  \n",
    "This Markdown Tutorial adapted from [markdowntutorial.org](markdowntutorial.org)"
   ]
  },
  {
   "cell_type": "markdown",
   "metadata": {},
   "source": [
    "### Italics\n",
    "- To make a phrase italic in Markdown, you can surround words with an underscore (_ ). For example, _this_ word would become italic.\n",
    "- Make the word \"not\" italic."
   ]
  },
  {
   "cell_type": "markdown",
   "metadata": {},
   "source": [
    "Writing in Markdown is not that hard!"
   ]
  },
  {
   "cell_type": "markdown",
   "metadata": {},
   "source": [
    "### Bold"
   ]
  },
  {
   "cell_type": "markdown",
   "metadata": {},
   "source": [
    "- To make phrases bold, you can surround words with two asterisks ( ** ).\n",
    "- In the cell below, make the word \"will\" bold."
   ]
  },
  {
   "cell_type": "markdown",
   "metadata": {},
   "source": [
    "I will complete these lessons!"
   ]
  },
  {
   "cell_type": "markdown",
   "metadata": {},
   "source": [
    "### Headers\n",
    "- To make headers in Markdown, you preface the phrase with a hash mark (#). \n",
    "- You place the same number of hash marks as the size of the header you want. \n",
    "- For example, for a header one, you'd use one hash mark (# Header One), while for a header three, you'd use three (### Header Three).\n",
    "- In the next cell, make each header the right size."
   ]
  },
  {
   "cell_type": "code",
   "execution_count": null,
   "metadata": {
    "collapsed": true
   },
   "outputs": [],
   "source": [
    "Header one\n",
    "Header two\n",
    "Header three\n",
    "Header four\n",
    "Header five\n",
    "Header six"
   ]
  },
  {
   "cell_type": "markdown",
   "metadata": {},
   "source": [
    "### Links\n",
    "- There are two different link types in Markdown, but both of them render the exact same way. \n",
    "- The first link style is called an inline link. \n",
    "- To create an inline link, you wrap the link text in brackets ( [ ] ), and then you wrap the link in parenthesis ( ( ) ). \n",
    "- For example, to create a hyperlink to www.github.com, with a link text that says, Visit GitHub!, you'd write this in Markdown: [Visit GitHub!](www.github.com).\n",
    "\n",
    "In the box below, make a link to www.google.com, with link text that says \"Search for it.\""
   ]
  },
  {
   "cell_type": "markdown",
   "metadata": {},
   "source": [
    "Search for it.()"
   ]
  },
  {
   "cell_type": "markdown",
   "metadata": {},
   "source": [
    "### Images\n",
    "\n",
    "- To create an image link, enter an exclamation point ( ! ), wrap the alt text in brackets ( [ ] ), and then wrap the link in parenthesis ( ( ) ). \n",
    "- (Alt text is a phrase or sentence that describes the image for the visually impaired.)"
   ]
  },
  {
   "cell_type": "raw",
   "metadata": {},
   "source": [
    "For example, to create an inline image link to https://octodex.github.com/images/bannekat.png, with an alt text that says, Benjamin Bannekat, you'd write this in Markdown: ![Benjamin Bannekat](https://octodex.github.com/images/bannekat.png).\n",
    "\n",
    "In the cell below, turn the link to an image, and fill out the alt text brackets to say \"A pretty tiger\":"
   ]
  },
  {
   "cell_type": "markdown",
   "metadata": {},
   "source": [
    "[](https://upload.wikimedia.org/wikipedia/commons/5/56/Tiger.50.jpg)"
   ]
  },
  {
   "cell_type": "markdown",
   "metadata": {},
   "source": [
    "## Blockquote\n",
    "\n",
    "- If you need to call special attention to a quote from another source, or design a pull quote for a magazine article, then Markdown's blockquote syntax will be useful. \n",
    "- A blockquote is a sentence or paragraph that's been specially formatted to draw attention to the reader.\n",
    "- To create a block quote, all you have to do is preface a line with the \"greater than\" caret (>)"
   ]
  },
  {
   "cell_type": "markdown",
   "metadata": {},
   "source": [
    "I read this interesting quote the other day:\n",
    "\n",
    "\"Her eyes had called him and his soul had leaped at the call. To live, to err, to fall, to triumph, to recreate life out of life!\""
   ]
  },
  {
   "cell_type": "markdown",
   "metadata": {},
   "source": [
    "### Lists\n",
    "- To create an unordered list, you'll want to preface each item in the list with an asterisk ( * ). \n",
    "- Each list item also gets its own line."
   ]
  },
  {
   "cell_type": "markdown",
   "metadata": {},
   "source": [
    "Flour, Cheese, Tomatoes"
   ]
  },
  {
   "cell_type": "markdown",
   "metadata": {},
   "source": [
    "An ordered list is prefaced with numbers, instead of asterisks. Take a look at this recipe:\n",
    "\n",
    "1. Crack three eggs over a bowl\n",
    "2. Pour a gallon of milk into the bowl\n",
    "3. Rub the salmon vigorously with butter\n",
    "4. Drop the salmon into the egg-milk bowl\n",
    "\n",
    "Turn the rest of the recipe into an ordered list."
   ]
  },
  {
   "cell_type": "markdown",
   "metadata": {},
   "source": [
    "Cut the cheese, Slice the tomatoes, Rub the tomatoes in flour"
   ]
  },
  {
   "cell_type": "markdown",
   "metadata": {},
   "source": [
    "### Paragraphs\n",
    "- To insert a hard break, add a new line between two lines.\n",
    "- To insert a soft break, add two empty spaces after a line."
   ]
  },
  {
   "cell_type": "markdown",
   "metadata": {},
   "source": [
    "Do I contradict myself?\n",
    "Very well then I contradict myself,\n",
    "(I am large, I contain multitudes.)"
   ]
  },
  {
   "cell_type": "markdown",
   "metadata": {},
   "source": [
    "Do I contradict myself?\n",
    "Very well then I contradict myself,\n",
    "(I am large, I contain multitudes.)"
   ]
  },
  {
   "cell_type": "code",
   "execution_count": null,
   "metadata": {
    "collapsed": true
   },
   "outputs": [],
   "source": []
  }
 ],
 "metadata": {
  "kernelspec": {
   "display_name": "Python 3",
   "language": "python",
   "name": "python3"
  },
  "language_info": {
   "codemirror_mode": {
    "name": "ipython",
    "version": 3
   },
   "file_extension": ".py",
   "mimetype": "text/x-python",
   "name": "python",
   "nbconvert_exporter": "python",
   "pygments_lexer": "ipython3",
   "version": "3.6.8"
  }
 },
 "nbformat": 4,
 "nbformat_minor": 2
}
